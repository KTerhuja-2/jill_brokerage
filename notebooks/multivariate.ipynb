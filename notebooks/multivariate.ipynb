{
 "cells": [
  {
   "cell_type": "code",
   "execution_count": 1,
   "metadata": {},
   "outputs": [],
   "source": [
    "import pandas as pd"
   ]
  },
  {
   "cell_type": "code",
   "execution_count": 3,
   "metadata": {},
   "outputs": [],
   "source": [
    "data = pd.read_excel('../data/full_dataset_multivariate_gdp_interstRates.xlsx')"
   ]
  },
  {
   "cell_type": "code",
   "execution_count": 5,
   "metadata": {},
   "outputs": [],
   "source": [
    "data[\"FiscalYear\"] = pd.to_datetime(data[\"FiscalYear\"], format = \"%Y\")"
   ]
  },
  {
   "cell_type": "code",
   "execution_count": 7,
   "metadata": {},
   "outputs": [],
   "source": [
    "data.to_excel('../data/full_dataset_multivariate_gdp_interstRates.xlsx', index=False)"
   ]
  },
  {
   "cell_type": "code",
   "execution_count": 14,
   "metadata": {},
   "outputs": [
    {
     "data": {
      "text/html": [
       "<div>\n",
       "<style scoped>\n",
       "    .dataframe tbody tr th:only-of-type {\n",
       "        vertical-align: middle;\n",
       "    }\n",
       "\n",
       "    .dataframe tbody tr th {\n",
       "        vertical-align: top;\n",
       "    }\n",
       "\n",
       "    .dataframe thead th {\n",
       "        text-align: right;\n",
       "    }\n",
       "</style>\n",
       "<table border=\"1\" class=\"dataframe\">\n",
       "  <thead>\n",
       "    <tr style=\"text-align: right;\">\n",
       "      <th></th>\n",
       "      <th>ProfId</th>\n",
       "      <th>Broker</th>\n",
       "      <th>FiscalYear</th>\n",
       "      <th>Actuals</th>\n",
       "      <th>BrokerTarget</th>\n",
       "      <th>Interest Rate</th>\n",
       "      <th>Texas GDP</th>\n",
       "    </tr>\n",
       "  </thead>\n",
       "  <tbody>\n",
       "    <tr>\n",
       "      <th>0</th>\n",
       "      <td>16507</td>\n",
       "      <td>Weatherby, Samuel</td>\n",
       "      <td>2014-01-01</td>\n",
       "      <td>637791.99</td>\n",
       "      <td>500000.0</td>\n",
       "      <td>4.53</td>\n",
       "      <td>1579299500000</td>\n",
       "    </tr>\n",
       "    <tr>\n",
       "      <th>1</th>\n",
       "      <td>16507</td>\n",
       "      <td>Weatherby, Samuel</td>\n",
       "      <td>2015-01-01</td>\n",
       "      <td>1043269.72</td>\n",
       "      <td>600000.0</td>\n",
       "      <td>3.66</td>\n",
       "      <td>1573498400000</td>\n",
       "    </tr>\n",
       "    <tr>\n",
       "      <th>2</th>\n",
       "      <td>16507</td>\n",
       "      <td>Weatherby, Samuel</td>\n",
       "      <td>2016-01-01</td>\n",
       "      <td>576363.95</td>\n",
       "      <td>1633334.0</td>\n",
       "      <td>3.97</td>\n",
       "      <td>1579014900000</td>\n",
       "    </tr>\n",
       "    <tr>\n",
       "      <th>3</th>\n",
       "      <td>16507</td>\n",
       "      <td>Weatherby, Samuel</td>\n",
       "      <td>2017-01-01</td>\n",
       "      <td>683077.75</td>\n",
       "      <td>600000.0</td>\n",
       "      <td>4.20</td>\n",
       "      <td>1673234300000</td>\n",
       "    </tr>\n",
       "    <tr>\n",
       "      <th>4</th>\n",
       "      <td>16507</td>\n",
       "      <td>Weatherby, Samuel</td>\n",
       "      <td>2018-01-01</td>\n",
       "      <td>1662274.72</td>\n",
       "      <td>850000.0</td>\n",
       "      <td>3.95</td>\n",
       "      <td>1809396700000</td>\n",
       "    </tr>\n",
       "    <tr>\n",
       "      <th>...</th>\n",
       "      <td>...</td>\n",
       "      <td>...</td>\n",
       "      <td>...</td>\n",
       "      <td>...</td>\n",
       "      <td>...</td>\n",
       "      <td>...</td>\n",
       "      <td>...</td>\n",
       "    </tr>\n",
       "    <tr>\n",
       "      <th>692</th>\n",
       "      <td>601849</td>\n",
       "      <td>Johnson, Russell</td>\n",
       "      <td>2022-01-01</td>\n",
       "      <td>1534149.72</td>\n",
       "      <td>905000.0</td>\n",
       "      <td>3.55</td>\n",
       "      <td>2355959700000</td>\n",
       "    </tr>\n",
       "    <tr>\n",
       "      <th>693</th>\n",
       "      <td>601849</td>\n",
       "      <td>Johnson, Russell</td>\n",
       "      <td>2023-01-01</td>\n",
       "      <td>1066567.17</td>\n",
       "      <td>1125000.0</td>\n",
       "      <td>6.48</td>\n",
       "      <td>2500000000000</td>\n",
       "    </tr>\n",
       "    <tr>\n",
       "      <th>694</th>\n",
       "      <td>601851</td>\n",
       "      <td>Pustmueller, Joel</td>\n",
       "      <td>2021-01-01</td>\n",
       "      <td>281890.65</td>\n",
       "      <td>300000.0</td>\n",
       "      <td>2.65</td>\n",
       "      <td>2051768600000</td>\n",
       "    </tr>\n",
       "    <tr>\n",
       "      <th>695</th>\n",
       "      <td>601851</td>\n",
       "      <td>Pustmueller, Joel</td>\n",
       "      <td>2022-01-01</td>\n",
       "      <td>288382.87</td>\n",
       "      <td>455000.0</td>\n",
       "      <td>3.55</td>\n",
       "      <td>2355959700000</td>\n",
       "    </tr>\n",
       "    <tr>\n",
       "      <th>696</th>\n",
       "      <td>601851</td>\n",
       "      <td>Pustmueller, Joel</td>\n",
       "      <td>2023-01-01</td>\n",
       "      <td>227790.96</td>\n",
       "      <td>565000.0</td>\n",
       "      <td>6.48</td>\n",
       "      <td>2500000000000</td>\n",
       "    </tr>\n",
       "  </tbody>\n",
       "</table>\n",
       "<p>697 rows × 7 columns</p>\n",
       "</div>"
      ],
      "text/plain": [
       "     ProfId             Broker FiscalYear     Actuals  BrokerTarget  \\\n",
       "0     16507  Weatherby, Samuel 2014-01-01   637791.99      500000.0   \n",
       "1     16507  Weatherby, Samuel 2015-01-01  1043269.72      600000.0   \n",
       "2     16507  Weatherby, Samuel 2016-01-01   576363.95     1633334.0   \n",
       "3     16507  Weatherby, Samuel 2017-01-01   683077.75      600000.0   \n",
       "4     16507  Weatherby, Samuel 2018-01-01  1662274.72      850000.0   \n",
       "..      ...                ...        ...         ...           ...   \n",
       "692  601849   Johnson, Russell 2022-01-01  1534149.72      905000.0   \n",
       "693  601849   Johnson, Russell 2023-01-01  1066567.17     1125000.0   \n",
       "694  601851  Pustmueller, Joel 2021-01-01   281890.65      300000.0   \n",
       "695  601851  Pustmueller, Joel 2022-01-01   288382.87      455000.0   \n",
       "696  601851  Pustmueller, Joel 2023-01-01   227790.96      565000.0   \n",
       "\n",
       "     Interest Rate      Texas GDP  \n",
       "0             4.53  1579299500000  \n",
       "1             3.66  1573498400000  \n",
       "2             3.97  1579014900000  \n",
       "3             4.20  1673234300000  \n",
       "4             3.95  1809396700000  \n",
       "..             ...            ...  \n",
       "692           3.55  2355959700000  \n",
       "693           6.48  2500000000000  \n",
       "694           2.65  2051768600000  \n",
       "695           3.55  2355959700000  \n",
       "696           6.48  2500000000000  \n",
       "\n",
       "[697 rows x 7 columns]"
      ]
     },
     "execution_count": 14,
     "metadata": {},
     "output_type": "execute_result"
    }
   ],
   "source": [
    "data"
   ]
  },
  {
   "cell_type": "code",
   "execution_count": 28,
   "metadata": {},
   "outputs": [],
   "source": [
    "ir = data[data['Broker']=='Weatherby, Samuel'].set_index('FiscalYear')['Interest Rate']"
   ]
  },
  {
   "cell_type": "code",
   "execution_count": 26,
   "metadata": {},
   "outputs": [],
   "source": [
    "gdp  = data[data['Broker']=='Weatherby, Samuel'].set_index('FiscalYear')['Texas GDP']"
   ]
  },
  {
   "cell_type": "code",
   "execution_count": 22,
   "metadata": {},
   "outputs": [],
   "source": [
    "from darts.timeseries import TimeSeries"
   ]
  },
  {
   "cell_type": "code",
   "execution_count": 35,
   "metadata": {},
   "outputs": [],
   "source": [
    "ir_series = TimeSeries.from_series(ir)\n",
    "gdp_series = TimeSeries.from_series(gdp)\n",
    "\n"
   ]
  },
  {
   "cell_type": "code",
   "execution_count": 39,
   "metadata": {},
   "outputs": [],
   "source": [
    "df_ir = ir_series.pd_dataframe().rename(columns={'Interest Rate':'Values'})\n",
    "df_ir['tag'] = 'interest_rate'\n",
    "df_gdp = gdp_series.pd_dataframe().rename(columns={'Texas GDP':'Values'})\n",
    "df_gdp['tag'] = 'gdp'\n",
    "pd.concat([df_ir,df_gdp])"
   ]
  },
  {
   "cell_type": "code",
   "execution_count": 61,
   "metadata": {},
   "outputs": [
    {
     "data": {
      "text/html": [
       "<div>\n",
       "<style scoped>\n",
       "    .dataframe tbody tr th:only-of-type {\n",
       "        vertical-align: middle;\n",
       "    }\n",
       "\n",
       "    .dataframe tbody tr th {\n",
       "        vertical-align: top;\n",
       "    }\n",
       "\n",
       "    .dataframe thead th {\n",
       "        text-align: right;\n",
       "    }\n",
       "</style>\n",
       "<table border=\"1\" class=\"dataframe\">\n",
       "  <thead>\n",
       "    <tr style=\"text-align: right;\">\n",
       "      <th>component</th>\n",
       "      <th>Values</th>\n",
       "      <th>tag</th>\n",
       "    </tr>\n",
       "    <tr>\n",
       "      <th>FiscalYear</th>\n",
       "      <th></th>\n",
       "      <th></th>\n",
       "    </tr>\n",
       "  </thead>\n",
       "  <tbody>\n",
       "    <tr>\n",
       "      <th>2023-01-01</th>\n",
       "      <td>2.500000e+12</td>\n",
       "      <td>gdp</td>\n",
       "    </tr>\n",
       "  </tbody>\n",
       "</table>\n",
       "</div>"
      ],
      "text/plain": [
       "component         Values  tag\n",
       "FiscalYear                   \n",
       "2023-01-01  2.500000e+12  gdp"
      ]
     },
     "execution_count": 61,
     "metadata": {},
     "output_type": "execute_result"
    }
   ],
   "source": [
    "df_gdp.tail(1)"
   ]
  },
  {
   "cell_type": "code",
   "execution_count": 54,
   "metadata": {},
   "outputs": [
    {
     "name": "stderr",
     "output_type": "stream",
     "text": [
      "/tmp/ipykernel_1486/1675793087.py:1: SettingWithCopyWarning: \n",
      "A value is trying to be set on a copy of a slice from a DataFrame\n",
      "\n",
      "See the caveats in the documentation: https://pandas.pydata.org/pandas-docs/stable/user_guide/indexing.html#returning-a-view-versus-a-copy\n",
      "  temp['tag'] = 'predicted'\n"
     ]
    }
   ],
   "source": [
    "temp['tag'] = 'predicted'"
   ]
  },
  {
   "cell_type": "code",
   "execution_count": 56,
   "metadata": {},
   "outputs": [
    {
     "data": {
      "text/html": [
       "<div>\n",
       "<style scoped>\n",
       "    .dataframe tbody tr th:only-of-type {\n",
       "        vertical-align: middle;\n",
       "    }\n",
       "\n",
       "    .dataframe tbody tr th {\n",
       "        vertical-align: top;\n",
       "    }\n",
       "\n",
       "    .dataframe thead th {\n",
       "        text-align: right;\n",
       "    }\n",
       "</style>\n",
       "<table border=\"1\" class=\"dataframe\">\n",
       "  <thead>\n",
       "    <tr style=\"text-align: right;\">\n",
       "      <th></th>\n",
       "      <th>Values</th>\n",
       "      <th>tag</th>\n",
       "      <th>2023-01-01 00:00:00</th>\n",
       "    </tr>\n",
       "  </thead>\n",
       "  <tbody>\n",
       "    <tr>\n",
       "      <th>2014-01-01 00:00:00</th>\n",
       "      <td>4.53</td>\n",
       "      <td>interest_rate</td>\n",
       "      <td>NaN</td>\n",
       "    </tr>\n",
       "    <tr>\n",
       "      <th>2015-01-01 00:00:00</th>\n",
       "      <td>3.66</td>\n",
       "      <td>interest_rate</td>\n",
       "      <td>NaN</td>\n",
       "    </tr>\n",
       "    <tr>\n",
       "      <th>2016-01-01 00:00:00</th>\n",
       "      <td>3.97</td>\n",
       "      <td>interest_rate</td>\n",
       "      <td>NaN</td>\n",
       "    </tr>\n",
       "    <tr>\n",
       "      <th>2017-01-01 00:00:00</th>\n",
       "      <td>4.20</td>\n",
       "      <td>interest_rate</td>\n",
       "      <td>NaN</td>\n",
       "    </tr>\n",
       "    <tr>\n",
       "      <th>2018-01-01 00:00:00</th>\n",
       "      <td>3.95</td>\n",
       "      <td>interest_rate</td>\n",
       "      <td>NaN</td>\n",
       "    </tr>\n",
       "    <tr>\n",
       "      <th>2019-01-01 00:00:00</th>\n",
       "      <td>4.51</td>\n",
       "      <td>interest_rate</td>\n",
       "      <td>NaN</td>\n",
       "    </tr>\n",
       "    <tr>\n",
       "      <th>2020-01-01 00:00:00</th>\n",
       "      <td>3.72</td>\n",
       "      <td>interest_rate</td>\n",
       "      <td>NaN</td>\n",
       "    </tr>\n",
       "    <tr>\n",
       "      <th>2021-01-01 00:00:00</th>\n",
       "      <td>2.65</td>\n",
       "      <td>interest_rate</td>\n",
       "      <td>NaN</td>\n",
       "    </tr>\n",
       "    <tr>\n",
       "      <th>2022-01-01 00:00:00</th>\n",
       "      <td>3.55</td>\n",
       "      <td>interest_rate</td>\n",
       "      <td>NaN</td>\n",
       "    </tr>\n",
       "    <tr>\n",
       "      <th>2023-01-01 00:00:00</th>\n",
       "      <td>6.48</td>\n",
       "      <td>interest_rate</td>\n",
       "      <td>NaN</td>\n",
       "    </tr>\n",
       "    <tr>\n",
       "      <th>Values</th>\n",
       "      <td>NaN</td>\n",
       "      <td>NaN</td>\n",
       "      <td>2500000000000.0</td>\n",
       "    </tr>\n",
       "    <tr>\n",
       "      <th>tag</th>\n",
       "      <td>NaN</td>\n",
       "      <td>NaN</td>\n",
       "      <td>predicted</td>\n",
       "    </tr>\n",
       "  </tbody>\n",
       "</table>\n",
       "</div>"
      ],
      "text/plain": [
       "                     Values            tag 2023-01-01 00:00:00\n",
       "2014-01-01 00:00:00    4.53  interest_rate                 NaN\n",
       "2015-01-01 00:00:00    3.66  interest_rate                 NaN\n",
       "2016-01-01 00:00:00    3.97  interest_rate                 NaN\n",
       "2017-01-01 00:00:00    4.20  interest_rate                 NaN\n",
       "2018-01-01 00:00:00    3.95  interest_rate                 NaN\n",
       "2019-01-01 00:00:00    4.51  interest_rate                 NaN\n",
       "2020-01-01 00:00:00    3.72  interest_rate                 NaN\n",
       "2021-01-01 00:00:00    2.65  interest_rate                 NaN\n",
       "2022-01-01 00:00:00    3.55  interest_rate                 NaN\n",
       "2023-01-01 00:00:00    6.48  interest_rate                 NaN\n",
       "Values                  NaN            NaN     2500000000000.0\n",
       "tag                     NaN            NaN           predicted"
      ]
     },
     "execution_count": 56,
     "metadata": {},
     "output_type": "execute_result"
    }
   ],
   "source": [
    "pd.concat([df_ir,temp])"
   ]
  },
  {
   "cell_type": "code",
   "execution_count": null,
   "metadata": {},
   "outputs": [],
   "source": [
    "plot_df = utils.combine(target_train_ts,fit_df,pred_df).rename(columns={country_name:\"New HIV Population\"})"
   ]
  }
 ],
 "metadata": {
  "kernelspec": {
   "display_name": "Python 3",
   "language": "python",
   "name": "python3"
  },
  "language_info": {
   "codemirror_mode": {
    "name": "ipython",
    "version": 3
   },
   "file_extension": ".py",
   "mimetype": "text/x-python",
   "name": "python",
   "nbconvert_exporter": "python",
   "pygments_lexer": "ipython3",
   "version": "3.10.13"
  }
 },
 "nbformat": 4,
 "nbformat_minor": 2
}
